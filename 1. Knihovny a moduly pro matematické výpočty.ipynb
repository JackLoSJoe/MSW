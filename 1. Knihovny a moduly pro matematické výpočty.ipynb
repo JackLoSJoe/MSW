{
 "cells": [
  {
   "cell_type": "markdown",
   "source": [
    "<h1>Zadání:</h1>\n",
    "<p>V tomto kurzu jste se učili s některými vybranými knihovnami. Některé sloužily pro rychlé vektorové operace, jako numpy, některé mají naprogramovány symbolické manipulace, které lze převést na numerické reprezentace (sympy), některé mají v sobě funkce pro numerickou integraci (scipy). Některé slouží i pro rychlé základní operace s čísly (numba).\n",
    "\n",
    "Vaším úkolem je změřit potřebný čas pro vyřešení nějakého problému (např.: provést skalární součin, vypočítat určitý integrál) pomocí standardního pythonu a pomocí specializované knihovny. Toto měření proveďte alespoň pro 5 různých úloh (ne pouze jiná čísla, ale úplně jiné téma) a minimálně porovnejte rychlost jednoho modulu se standardním pythonem. Ideálně proveďte porovnání ještě s dalším modulem a snažte se, ať je kód ve standardním pythonu napsán efektivně.</p>"
   ],
   "metadata": {
    "collapsed": false
   }
  },
  {
   "cell_type": "markdown",
   "source": [
    "<h3>1. Výpočet skalárního součinu dvou velkých vektorů:</h3>\n",
    "<h4>Standartní Python:</h4>"
   ],
   "metadata": {
    "collapsed": false
   }
  },
  {
   "cell_type": "code",
   "execution_count": 272,
   "outputs": [
    {
     "name": "stdout",
     "output_type": "stream",
     "text": [
      "Result: 32000000000000000000000000000000000000000000000000000000000000\n",
      "Time: 0.0s\n"
     ]
    }
   ],
   "source": [
    "import time\n",
    "\n",
    "a = [1*10**30, 2*10**30, 3*10**30]\n",
    "b = [4*10**30, 5*10**30, 6*10**30]\n",
    "\n",
    "start = time.time()\n",
    "result = sum(x*y for x,y in zip(a,b))\n",
    "end = time.time()\n",
    "\n",
    "result_time = end - start\n",
    "print(f\"Result: {result}\")\n",
    "print(f\"Time: {result_time}s\")"
   ],
   "metadata": {
    "collapsed": false,
    "ExecuteTime": {
     "end_time": "2023-05-15T19:07:01.990450500Z",
     "start_time": "2023-05-15T19:07:01.931515800Z"
    }
   }
  },
  {
   "cell_type": "markdown",
   "source": [
    "<h4>Numpy:</h4>"
   ],
   "metadata": {
    "collapsed": false
   }
  },
  {
   "cell_type": "code",
   "execution_count": 273,
   "outputs": [
    {
     "name": "stdout",
     "output_type": "stream",
     "text": [
      "Result: 32000000000000000000000000000000000000000000000000000000000000\n",
      "Time: 0.0\n"
     ]
    }
   ],
   "source": [
    "import numpy as np\n",
    "import time\n",
    "\n",
    "a = np.array([1*10**30, 2*10**30, 3*10**30])\n",
    "b = np.array([4*10**30, 5*10**30, 6*10**30])\n",
    "\n",
    "start = time.time()\n",
    "result = np.dot(a, b)\n",
    "end = time.time()\n",
    "\n",
    "result_time = end - start\n",
    "print(f\"Result: {result}\")\n",
    "print(f\"Time: {result_time}\")"
   ],
   "metadata": {
    "collapsed": false,
    "ExecuteTime": {
     "end_time": "2023-05-15T19:07:01.991450700Z",
     "start_time": "2023-05-15T19:07:01.936052200Z"
    }
   }
  },
  {
   "cell_type": "markdown",
   "source": [
    "<h3>2. Výpočet určitého integrálu:</h3>\n",
    "<h4>Standartní Python:</h4>"
   ],
   "metadata": {
    "collapsed": false
   }
  },
  {
   "cell_type": "code",
   "execution_count": 274,
   "outputs": [
    {
     "name": "stdout",
     "output_type": "stream",
     "text": [
      "Result: 0.33283350000000034\n",
      "Time: 0.0010008811950683594\n"
     ]
    }
   ],
   "source": [
    "import time\n",
    "\n",
    "def f(x):\n",
    "    return x**2\n",
    "\n",
    "a = 0\n",
    "b = 1\n",
    "n = 1000\n",
    "\n",
    "start = time.time()\n",
    "dx = (b-a)/n\n",
    "integral = 0\n",
    "for i in range(n):\n",
    "    integral += f(a+i*dx)*dx\n",
    "end = time.time()\n",
    "\n",
    "result_time = end - start\n",
    "print(f\"Result: {integral}\")\n",
    "print(f\"Time: {result_time}\")"
   ],
   "metadata": {
    "collapsed": false,
    "ExecuteTime": {
     "end_time": "2023-05-15T19:07:02.047879300Z",
     "start_time": "2023-05-15T19:07:01.946353700Z"
    }
   }
  },
  {
   "cell_type": "markdown",
   "source": [
    "<h4>Scipy:</h4>"
   ],
   "metadata": {
    "collapsed": false
   }
  },
  {
   "cell_type": "code",
   "execution_count": 275,
   "outputs": [
    {
     "name": "stdout",
     "output_type": "stream",
     "text": [
      "Result: 0.33333333333333337\n",
      "Time: 0.0\n"
     ]
    }
   ],
   "source": [
    "import scipy as sp\n",
    "import time\n",
    "\n",
    "def f(x):\n",
    "    return x**2\n",
    "\n",
    "start = time.time()\n",
    "integral = sp.integrate.quad(f, 0, 1)[0]\n",
    "end = time.time()\n",
    "\n",
    "result_time = end - start\n",
    "print(f\"Result: {integral}\")\n",
    "print(f\"Time: {result_time}\")"
   ],
   "metadata": {
    "collapsed": false,
    "ExecuteTime": {
     "end_time": "2023-05-15T19:07:02.047879300Z",
     "start_time": "2023-05-15T19:07:01.950876900Z"
    }
   }
  },
  {
   "cell_type": "markdown",
   "source": [
    "<h3>3. Násobení dvou matic:</h3>\n",
    "<h4>Standartní Python:</h4>"
   ],
   "metadata": {
    "collapsed": false
   }
  },
  {
   "cell_type": "code",
   "execution_count": 276,
   "outputs": [
    {
     "name": "stdout",
     "output_type": "stream",
     "text": [
      "Result: [[19, 22], [43, 50]]\n",
      "Time: 0.0s\n"
     ]
    }
   ],
   "source": [
    "import time\n",
    "\n",
    "A = [[1, 2], [3, 4]]\n",
    "B = [[5, 6], [7, 8]]\n",
    "result = [[0, 0], [0, 0]]\n",
    "\n",
    "start = time.time()\n",
    "for i in range(len(A)):\n",
    "    for j in range(len(B[0])):\n",
    "        for k in range(len(B)):\n",
    "            result[i][j] += A[i][k] * B[k][j]\n",
    "end = time.time()\n",
    "\n",
    "result_time = end - start\n",
    "print(f\"Result: {result}\")\n",
    "print(f\"Time: {result_time}s\")"
   ],
   "metadata": {
    "collapsed": false,
    "ExecuteTime": {
     "end_time": "2023-05-15T19:07:02.048880Z",
     "start_time": "2023-05-15T19:07:01.959665700Z"
    }
   }
  },
  {
   "cell_type": "markdown",
   "source": [
    "<h4>Numpy:</h4>"
   ],
   "metadata": {
    "collapsed": false
   }
  },
  {
   "cell_type": "code",
   "execution_count": 277,
   "outputs": [
    {
     "name": "stdout",
     "output_type": "stream",
     "text": [
      "Result:\n",
      "[[19 22]\n",
      " [43 50]]\n",
      "Time: 0.0s\n"
     ]
    }
   ],
   "source": [
    "import numpy as np\n",
    "import time\n",
    "\n",
    "A = np.array([[1, 2], [3, 4]])\n",
    "B = np.array([[5, 6], [7, 8]])\n",
    "\n",
    "start = time.time()\n",
    "result = np.dot(A,B)\n",
    "end = time.time()\n",
    "\n",
    "result_time = end - start\n",
    "print(f\"Result:\\n{result}\")\n",
    "print(f\"Time: {result_time}s\")"
   ],
   "metadata": {
    "collapsed": false,
    "ExecuteTime": {
     "end_time": "2023-05-15T19:07:02.048880Z",
     "start_time": "2023-05-15T19:07:01.965833400Z"
    }
   }
  },
  {
   "cell_type": "markdown",
   "source": [
    "<h3>4. Výpočet determinantu matice:</h3>\n",
    "<h4>Standartní Python:</h4>"
   ],
   "metadata": {
    "collapsed": false
   }
  },
  {
   "cell_type": "code",
   "execution_count": 278,
   "outputs": [
    {
     "name": "stdout",
     "output_type": "stream",
     "text": [
      "Result: 0\n",
      "Time: 0.0s\n"
     ]
    }
   ],
   "source": [
    "import time\n",
    "\n",
    "def det_3x3(m):\n",
    "    [[a,b,c],[d,e,f],[g,h,i]] = m\n",
    "    return a*e*i + b*f*g + c*d*h - c*e*g - b*d*i - a*f*h\n",
    "\n",
    "matrix = [[1,2,3],[4,5,6],[7,8,9]]\n",
    "\n",
    "start = time.time()\n",
    "result = det_3x3(matrix)\n",
    "end = time.time()\n",
    "\n",
    "result_time = end - start\n",
    "print(f\"Result: {result}\")\n",
    "print(f\"Time: {result_time}s\")"
   ],
   "metadata": {
    "collapsed": false,
    "ExecuteTime": {
     "end_time": "2023-05-15T19:07:02.049877300Z",
     "start_time": "2023-05-15T19:07:01.970800200Z"
    }
   }
  },
  {
   "cell_type": "markdown",
   "source": [
    "<h4>Numpy:</h4>"
   ],
   "metadata": {
    "collapsed": false
   }
  },
  {
   "cell_type": "code",
   "execution_count": 279,
   "outputs": [
    {
     "name": "stdout",
     "output_type": "stream",
     "text": [
      "Result: 0.0\n",
      "Time: 0.0s\n"
     ]
    }
   ],
   "source": [
    "import numpy as np\n",
    "import time\n",
    "\n",
    "matrix = np.array([[1,2,3],[4,5,6],[7,8,9]])\n",
    "\n",
    "start = time.time()\n",
    "result = np.linalg.det(matrix)\n",
    "end = time.time()\n",
    "\n",
    "result_time = end - start\n",
    "print(f\"Result: {result}\")\n",
    "print(f\"Time: {result_time}s\")"
   ],
   "metadata": {
    "collapsed": false,
    "ExecuteTime": {
     "end_time": "2023-05-15T19:07:02.049877300Z",
     "start_time": "2023-05-15T19:07:01.981070100Z"
    }
   }
  },
  {
   "cell_type": "markdown",
   "source": [
    "<h3>5. Transponování matice:</h3>\n",
    "<h4>Standartní Python:</h4>"
   ],
   "metadata": {
    "collapsed": false
   }
  },
  {
   "cell_type": "code",
   "execution_count": 280,
   "outputs": [
    {
     "name": "stdout",
     "output_type": "stream",
     "text": [
      "Result: [[1, 4, 7], [2, 5, 8], [3, 6, 9]]\n",
      "Time: 0.0009999275207519531s\n"
     ]
    }
   ],
   "source": [
    "import time\n",
    "\n",
    "matrix = [[1,2,3],[4,5,6],[7,8,9]]\n",
    "\n",
    "start = time.time()\n",
    "result = [[row[i] for row in matrix] for i in range(len(matrix[0]))]\n",
    "end = time.time()\n",
    "\n",
    "result_time = end - start\n",
    "print(f\"Result: {result}\")\n",
    "print(f\"Time: {result_time}s\")"
   ],
   "metadata": {
    "collapsed": false,
    "ExecuteTime": {
     "end_time": "2023-05-15T19:07:02.050875800Z",
     "start_time": "2023-05-15T19:07:01.985115300Z"
    }
   }
  },
  {
   "cell_type": "markdown",
   "source": [
    "<h4>Numpy:</h4>"
   ],
   "metadata": {
    "collapsed": false
   }
  },
  {
   "cell_type": "code",
   "execution_count": 281,
   "outputs": [
    {
     "name": "stdout",
     "output_type": "stream",
     "text": [
      "Result:\n",
      "[[1 4 7]\n",
      " [2 5 8]\n",
      " [3 6 9]]\n",
      "Time: 0.0s\n"
     ]
    }
   ],
   "source": [
    "import numpy as np\n",
    "import time\n",
    "\n",
    "matrix = [[1,2,3],[4,5,6],[7,8,9]]\n",
    "\n",
    "start = time.time()\n",
    "result = np.transpose(matrix)\n",
    "end = time.time()\n",
    "\n",
    "result_time = end - start\n",
    "print(f\"Result:\\n{result}\")\n",
    "print(f\"Time: {result_time}s\")"
   ],
   "metadata": {
    "collapsed": false,
    "ExecuteTime": {
     "end_time": "2023-05-15T19:07:02.050875800Z",
     "start_time": "2023-05-15T19:07:01.993450200Z"
    }
   }
  }
 ],
 "metadata": {
  "kernelspec": {
   "display_name": "Python 3",
   "language": "python",
   "name": "python3"
  },
  "language_info": {
   "codemirror_mode": {
    "name": "ipython",
    "version": 2
   },
   "file_extension": ".py",
   "mimetype": "text/x-python",
   "name": "python",
   "nbconvert_exporter": "python",
   "pygments_lexer": "ipython2",
   "version": "2.7.6"
  }
 },
 "nbformat": 4,
 "nbformat_minor": 0
}
