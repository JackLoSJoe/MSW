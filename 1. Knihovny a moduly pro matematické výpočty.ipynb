{
 "cells": [
  {
   "cell_type": "markdown",
   "source": [
    "<h1>Zadání:</h1>\n",
    "<p>V tomto kurzu jste se učili s některými vybranými knihovnami. Některé sloužily pro rychlé vektorové operace, jako numpy, některé mají naprogramovány symbolické manipulace, které lze převést na numerické reprezentace (sympy), některé mají v sobě funkce pro numerickou integraci (scipy). Některé slouží i pro rychlé základní operace s čísly (numba).\n",
    "\n",
    "Vaším úkolem je změřit potřebný čas pro vyřešení nějakého problému (např.: provést skalární součin, vypočítat určitý integrál) pomocí standardního pythonu a pomocí specializované knihovny. Toto měření proveďte alespoň pro 5 různých úloh (ne pouze jiná čísla, ale úplně jiné téma) a minimálně porovnejte rychlost jednoho modulu se standardním pythonem. Ideálně proveďte porovnání ještě s dalším modulem a snažte se, ať je kód ve standardním pythonu napsán efektivně.</p>"
   ],
   "metadata": {
    "collapsed": false
   }
  },
  {
   "cell_type": "markdown",
   "source": [
    "<h3>1. Výpočet skalárního součinu dvou velkých vektorů:</h3>\n",
    "<h4>Standartní Python:</h4>"
   ],
   "metadata": {
    "collapsed": false
   }
  },
  {
   "cell_type": "code",
   "execution_count": 212,
   "outputs": [
    {
     "name": "stdout",
     "output_type": "stream",
     "text": [
      "Result: 32000000000000000000000000000000000000000000000000000000000000\n",
      "Time: 0.0s\n"
     ]
    }
   ],
   "source": [
    "import time\n",
    "\n",
    "a = [1*10**30, 2*10**30, 3*10**30]\n",
    "b = [4*10**30, 5*10**30, 6*10**30]\n",
    "\n",
    "start = time.time()\n",
    "result = sum(x*y for x,y in zip(a,b))\n",
    "end = time.time()\n",
    "\n",
    "result_time = end - start\n",
    "print(f\"Result: {result}\")\n",
    "print(f\"Time: {result_time}s\")"
   ],
   "metadata": {
    "collapsed": false,
    "ExecuteTime": {
     "end_time": "2023-05-15T18:03:52.052714Z",
     "start_time": "2023-05-15T18:03:51.978697Z"
    }
   }
  },
  {
   "cell_type": "markdown",
   "source": [
    "<h4>Numpy:</h4>"
   ],
   "metadata": {
    "collapsed": false
   }
  },
  {
   "cell_type": "code",
   "execution_count": 213,
   "outputs": [
    {
     "name": "stdout",
     "output_type": "stream",
     "text": [
      "Result: 32000000000000000000000000000000000000000000000000000000000000\n",
      "Time: 0.0\n"
     ]
    }
   ],
   "source": [
    "import numpy as np\n",
    "import time\n",
    "\n",
    "a = np.array([1*10**30, 2*10**30, 3*10**30])\n",
    "b = np.array([4*10**30, 5*10**30, 6*10**30])\n",
    "\n",
    "start = time.time()\n",
    "result = np.dot(a, b)\n",
    "end = time.time()\n",
    "\n",
    "result_time = end - start\n",
    "print(f\"Result: {result}\")\n",
    "print(f\"Time: {result_time}\")"
   ],
   "metadata": {
    "collapsed": false,
    "ExecuteTime": {
     "end_time": "2023-05-15T18:03:52.052714Z",
     "start_time": "2023-05-15T18:03:51.986739100Z"
    }
   }
  },
  {
   "cell_type": "markdown",
   "source": [
    "<h3>2. Výpočet určitého integrálu:</h3>\n",
    "<h4>Standartní Python:</h4>"
   ],
   "metadata": {
    "collapsed": false
   }
  },
  {
   "cell_type": "code",
   "execution_count": 214,
   "outputs": [
    {
     "name": "stdout",
     "output_type": "stream",
     "text": [
      "Result: 0.33283350000000034\n",
      "Time: 0.0\n"
     ]
    }
   ],
   "source": [
    "import time\n",
    "\n",
    "def f(x):\n",
    "    return x**2\n",
    "\n",
    "a = 0\n",
    "b = 1\n",
    "n = 1000\n",
    "\n",
    "start = time.time()\n",
    "dx = (b-a)/n\n",
    "integral = 0\n",
    "for i in range(n):\n",
    "    integral += f(a+i*dx)*dx\n",
    "end = time.time()\n",
    "\n",
    "result_time = end - start\n",
    "print(f\"Result: {integral}\")\n",
    "print(f\"Time: {result_time}\")"
   ],
   "metadata": {
    "collapsed": false,
    "ExecuteTime": {
     "end_time": "2023-05-15T18:03:52.211921200Z",
     "start_time": "2023-05-15T18:03:51.992250Z"
    }
   }
  },
  {
   "cell_type": "markdown",
   "source": [
    "<h4>Scipy:</h4>"
   ],
   "metadata": {
    "collapsed": false
   }
  },
  {
   "cell_type": "code",
   "execution_count": 215,
   "outputs": [
    {
     "name": "stdout",
     "output_type": "stream",
     "text": [
      "Result: 0.33333333333333337\n",
      "Time: 0.0\n"
     ]
    }
   ],
   "source": [
    "import scipy as sp\n",
    "import time\n",
    "\n",
    "def f(x):\n",
    "    return x**2\n",
    "\n",
    "start = time.time()\n",
    "integral = sp.integrate.quad(f, 0, 1)[0]\n",
    "end = time.time()\n",
    "\n",
    "result_time = end - start\n",
    "print(f\"Result: {integral}\")\n",
    "print(f\"Time: {result_time}\")"
   ],
   "metadata": {
    "collapsed": false,
    "ExecuteTime": {
     "end_time": "2023-05-15T18:03:52.211921200Z",
     "start_time": "2023-05-15T18:03:52.001461600Z"
    }
   }
  },
  {
   "cell_type": "markdown",
   "source": [
    "<h3>3. :</h3>\n",
    "<h4>Standartní Python:</h4>"
   ],
   "metadata": {
    "collapsed": false
   }
  },
  {
   "cell_type": "code",
   "execution_count": 216,
   "outputs": [
    {
     "name": "stdout",
     "output_type": "stream",
     "text": [
      "Result: x\n",
      "Time: 0.0s\n"
     ]
    }
   ],
   "source": [
    "import time\n",
    "\n",
    "start = time.time()\n",
    "result = \"x\"\n",
    "end = time.time()\n",
    "\n",
    "result_time = end - start\n",
    "print(f\"Result: {result}\")\n",
    "print(f\"Time: {result_time}s\")"
   ],
   "metadata": {
    "collapsed": false,
    "ExecuteTime": {
     "end_time": "2023-05-15T18:05:34.485845700Z",
     "start_time": "2023-05-15T18:05:34.482159100Z"
    }
   }
  },
  {
   "cell_type": "markdown",
   "source": [
    "<h4>Numpy:</h4>"
   ],
   "metadata": {
    "collapsed": false
   }
  },
  {
   "cell_type": "code",
   "execution_count": 215,
   "outputs": [],
   "source": [
    "import time\n",
    "\n",
    "start = time.time()\n",
    "result = \"x\"\n",
    "end = time.time()\n",
    "\n",
    "result_time = end - start\n",
    "print(f\"Result: {result}\")\n",
    "print(f\"Time: {result_time}s\")"
   ],
   "metadata": {
    "collapsed": false,
    "ExecuteTime": {
     "end_time": "2023-05-15T18:03:52.212921100Z",
     "start_time": "2023-05-15T18:03:52.022317600Z"
    }
   }
  },
  {
   "cell_type": "markdown",
   "source": [
    "<h3>4. :</h3>\n",
    "<h4>Standartní Python:</h4>"
   ],
   "metadata": {
    "collapsed": false
   }
  },
  {
   "cell_type": "code",
   "execution_count": 215,
   "outputs": [],
   "source": [
    "import time\n",
    "\n",
    "start = time.time()\n",
    "result = \"x\"\n",
    "end = time.time()\n",
    "\n",
    "result_time = end - start\n",
    "print(f\"Result: {result}\")\n",
    "print(f\"Time: {result_time}s\")"
   ],
   "metadata": {
    "collapsed": false,
    "ExecuteTime": {
     "end_time": "2023-05-15T18:03:52.213919400Z",
     "start_time": "2023-05-15T18:03:52.035066900Z"
    }
   }
  },
  {
   "cell_type": "markdown",
   "source": [
    "<h4>Numpy:</h4>"
   ],
   "metadata": {
    "collapsed": false
   }
  },
  {
   "cell_type": "code",
   "execution_count": 215,
   "outputs": [],
   "source": [
    "import time\n",
    "\n",
    "start = time.time()\n",
    "result = \"x\"\n",
    "end = time.time()\n",
    "\n",
    "result_time = end - start\n",
    "print(f\"Result: {result}\")\n",
    "print(f\"Time: {result_time}s\")"
   ],
   "metadata": {
    "collapsed": false,
    "ExecuteTime": {
     "end_time": "2023-05-15T18:03:52.213919400Z",
     "start_time": "2023-05-15T18:03:52.040423800Z"
    }
   }
  },
  {
   "cell_type": "markdown",
   "source": [
    "<h3>5. :</h3>\n",
    "<h4>Standartní Python:</h4>"
   ],
   "metadata": {
    "collapsed": false
   }
  },
  {
   "cell_type": "code",
   "execution_count": 215,
   "outputs": [],
   "source": [
    "import time\n",
    "\n",
    "start = time.time()\n",
    "result = \"x\"\n",
    "end = time.time()\n",
    "\n",
    "result_time = end - start\n",
    "print(f\"Result: {result}\")\n",
    "print(f\"Time: {result_time}s\")"
   ],
   "metadata": {
    "collapsed": false,
    "ExecuteTime": {
     "end_time": "2023-05-15T18:04:03.470088300Z",
     "start_time": "2023-05-15T18:04:03.458210200Z"
    }
   }
  },
  {
   "cell_type": "markdown",
   "source": [
    "<h4>Numpy:</h4>"
   ],
   "metadata": {
    "collapsed": false
   }
  },
  {
   "cell_type": "code",
   "execution_count": null,
   "outputs": [],
   "source": [
    "import time\n",
    "\n",
    "start = time.time()\n",
    "result = \"x\"\n",
    "end = time.time()\n",
    "\n",
    "result_time = end - start\n",
    "print(f\"Result: {result}\")\n",
    "print(f\"Time: {result_time}s\")"
   ],
   "metadata": {
    "collapsed": false
   }
  }
 ],
 "metadata": {
  "kernelspec": {
   "display_name": "Python 3",
   "language": "python",
   "name": "python3"
  },
  "language_info": {
   "codemirror_mode": {
    "name": "ipython",
    "version": 2
   },
   "file_extension": ".py",
   "mimetype": "text/x-python",
   "name": "python",
   "nbconvert_exporter": "python",
   "pygments_lexer": "ipython2",
   "version": "2.7.6"
  }
 },
 "nbformat": 4,
 "nbformat_minor": 0
}
