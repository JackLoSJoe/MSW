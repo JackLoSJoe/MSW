{
 "cells": [
  {
   "cell_type": "code",
   "execution_count": 2,
   "metadata": {
    "collapsed": true,
    "ExecuteTime": {
     "end_time": "2023-05-02T16:01:25.481518300Z",
     "start_time": "2023-05-02T16:01:25.477006300Z"
    }
   },
   "outputs": [
    {
     "name": "stdout",
     "output_type": "stream",
     "text": [
      "1/3\n",
      "2/3\n"
     ]
    }
   ],
   "source": [
    "import fractions\n",
    "x = fractions.Fraction(1, 3)        # čitatel, jmenovatel\n",
    "print(x)\n",
    "print(x * 2)                        # opět typ Fraction"
   ]
  },
  {
   "cell_type": "code",
   "execution_count": 4,
   "outputs": [
    {
     "data": {
      "text/plain": "Fraction(3, 2)"
     },
     "execution_count": 4,
     "metadata": {},
     "output_type": "execute_result"
    }
   ],
   "source": [
    "fractions.Fraction(6, 4)            # automatické krácení"
   ],
   "metadata": {
    "collapsed": false,
    "ExecuteTime": {
     "end_time": "2023-05-02T16:02:41.248608100Z",
     "start_time": "2023-05-02T16:02:41.244606100Z"
    }
   }
  },
  {
   "cell_type": "code",
   "execution_count": 6,
   "outputs": [
    {
     "ename": "ZeroDivisionError",
     "evalue": "Fraction(0, 0)",
     "output_type": "error",
     "traceback": [
      "\u001B[1;31m---------------------------------------------------------------------------\u001B[0m",
      "\u001B[1;31mZeroDivisionError\u001B[0m                         Traceback (most recent call last)",
      "Cell \u001B[1;32mIn[6], line 1\u001B[0m\n\u001B[1;32m----> 1\u001B[0m \u001B[43mfractions\u001B[49m\u001B[38;5;241;43m.\u001B[39;49m\u001B[43mFraction\u001B[49m\u001B[43m(\u001B[49m\u001B[38;5;241;43m0\u001B[39;49m\u001B[43m,\u001B[49m\u001B[43m \u001B[49m\u001B[38;5;241;43m0\u001B[39;49m\u001B[43m)\u001B[49m\n",
      "File \u001B[1;32m~\\AppData\\Local\\Programs\\Python\\Python311\\Lib\\fractions.py:157\u001B[0m, in \u001B[0;36mFraction.__new__\u001B[1;34m(cls, numerator, denominator, _normalize)\u001B[0m\n\u001B[0;32m    153\u001B[0m     \u001B[38;5;28;01mraise\u001B[39;00m \u001B[38;5;167;01mTypeError\u001B[39;00m(\u001B[38;5;124m\"\u001B[39m\u001B[38;5;124mboth arguments should be \u001B[39m\u001B[38;5;124m\"\u001B[39m\n\u001B[0;32m    154\u001B[0m                     \u001B[38;5;124m\"\u001B[39m\u001B[38;5;124mRational instances\u001B[39m\u001B[38;5;124m\"\u001B[39m)\n\u001B[0;32m    156\u001B[0m \u001B[38;5;28;01mif\u001B[39;00m denominator \u001B[38;5;241m==\u001B[39m \u001B[38;5;241m0\u001B[39m:\n\u001B[1;32m--> 157\u001B[0m     \u001B[38;5;28;01mraise\u001B[39;00m \u001B[38;5;167;01mZeroDivisionError\u001B[39;00m(\u001B[38;5;124m'\u001B[39m\u001B[38;5;124mFraction(\u001B[39m\u001B[38;5;132;01m%s\u001B[39;00m\u001B[38;5;124m, 0)\u001B[39m\u001B[38;5;124m'\u001B[39m \u001B[38;5;241m%\u001B[39m numerator)\n\u001B[0;32m    158\u001B[0m \u001B[38;5;28;01mif\u001B[39;00m _normalize:\n\u001B[0;32m    159\u001B[0m     g \u001B[38;5;241m=\u001B[39m math\u001B[38;5;241m.\u001B[39mgcd(numerator, denominator)\n",
      "\u001B[1;31mZeroDivisionError\u001B[0m: Fraction(0, 0)"
     ]
    }
   ],
   "source": [
    "fractions.Fraction(0, 0)"
   ],
   "metadata": {
    "collapsed": false,
    "ExecuteTime": {
     "end_time": "2023-05-02T16:04:06.249539400Z",
     "start_time": "2023-05-02T16:04:06.233916500Z"
    }
   }
  },
  {
   "cell_type": "code",
   "execution_count": 8,
   "outputs": [
    {
     "name": "stdout",
     "output_type": "stream",
     "text": [
      "(5+7j)\n",
      "5.0 7.0\n",
      "8.602325267042627\n"
     ]
    }
   ],
   "source": [
    "z = 5 + 7j           # nebo velkým písmenem: 5 + 7J, příp. complex(5, 7)\n",
    "print(z)\n",
    "print(z.real, z.imag)\n",
    "print(abs(z))"
   ],
   "metadata": {
    "collapsed": false,
    "ExecuteTime": {
     "end_time": "2023-05-02T16:09:44.252701400Z",
     "start_time": "2023-05-02T16:09:44.248701400Z"
    }
   }
  },
  {
   "cell_type": "code",
   "execution_count": 10,
   "outputs": [
    {
     "name": "stdout",
     "output_type": "stream",
     "text": [
      "(-1+0j)\n",
      "(1.5+0.5j)\n"
     ]
    }
   ],
   "source": [
    "print(1j * complex(0,1))\n",
    "print((1+2j)/(1+1j))"
   ],
   "metadata": {
    "collapsed": false,
    "ExecuteTime": {
     "end_time": "2023-05-02T16:13:03.953838Z",
     "start_time": "2023-05-02T16:13:03.949376900Z"
    }
   }
  },
  {
   "cell_type": "code",
   "execution_count": 18,
   "outputs": [
    {
     "name": "stdout",
     "output_type": "stream",
     "text": [
      "(8+0j)\n",
      "0j\n",
      "(5+12j)\n",
      "<class 'complex'>\n"
     ]
    },
    {
     "ename": "ValueError",
     "evalue": "complex() arg is a malformed string",
     "output_type": "error",
     "traceback": [
      "\u001B[1;31m---------------------------------------------------------------------------\u001B[0m",
      "\u001B[1;31mValueError\u001B[0m                                Traceback (most recent call last)",
      "Cell \u001B[1;32mIn[18], line 5\u001B[0m\n\u001B[0;32m      3\u001B[0m \u001B[38;5;28mprint\u001B[39m(\u001B[38;5;28mcomplex\u001B[39m(\u001B[38;5;124m\"\u001B[39m\u001B[38;5;124m5+12j\u001B[39m\u001B[38;5;124m\"\u001B[39m))\n\u001B[0;32m      4\u001B[0m \u001B[38;5;28mprint\u001B[39m(\u001B[38;5;28mtype\u001B[39m(\u001B[38;5;28mcomplex\u001B[39m(\u001B[38;5;124m\"\u001B[39m\u001B[38;5;124m5+12j\u001B[39m\u001B[38;5;124m\"\u001B[39m)))\n\u001B[1;32m----> 5\u001B[0m \u001B[38;5;28mprint\u001B[39m(\u001B[38;5;28;43mcomplex\u001B[39;49m\u001B[43m(\u001B[49m\u001B[38;5;124;43m\"\u001B[39;49m\u001B[38;5;124;43m5 + 12j\u001B[39;49m\u001B[38;5;124;43m\"\u001B[39;49m\u001B[43m)\u001B[49m)\n",
      "\u001B[1;31mValueError\u001B[0m: complex() arg is a malformed string"
     ]
    }
   ],
   "source": [
    "print(complex(8))\n",
    "print(complex())\n",
    "print(complex(\"5+12j\"))\n",
    "print(type(complex(\"5+12j\")))\n",
    "print(complex(\"5 + 12j\"))"
   ],
   "metadata": {
    "collapsed": false,
    "ExecuteTime": {
     "end_time": "2023-05-02T16:15:53.372138200Z",
     "start_time": "2023-05-02T16:15:53.360775700Z"
    }
   }
  },
  {
   "cell_type": "code",
   "execution_count": null,
   "outputs": [],
   "source": [],
   "metadata": {
    "collapsed": false
   }
  }
 ],
 "metadata": {
  "kernelspec": {
   "display_name": "Python 3",
   "language": "python",
   "name": "python3"
  },
  "language_info": {
   "codemirror_mode": {
    "name": "ipython",
    "version": 2
   },
   "file_extension": ".py",
   "mimetype": "text/x-python",
   "name": "python",
   "nbconvert_exporter": "python",
   "pygments_lexer": "ipython2",
   "version": "2.7.6"
  }
 },
 "nbformat": 4,
 "nbformat_minor": 0
}
